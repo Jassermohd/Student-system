{
 "cells": [
  {
   "cell_type": "markdown",
   "metadata": {},
   "source": [
    "### Problem Statement: Write a program to build a simple Student Management System using Python which can perform the following operations:\n",
    "\n",
    "Accept\n",
    "Display\n",
    "Search\n",
    "Delete\n",
    "Update\n",
    "\n",
    "Accept – This method takes details from the user like name, roll number, and marks for two different subjects.\n",
    "\n",
    "Display – This method displays the details of every student.\n",
    "\n",
    "Search – This method searches for a particular student from the list of students. This method will ask the user for roll number and then search according to the roll number\n",
    "\n",
    "Delete – This method deletes the record of a particular student with a matching roll number.\n",
    "\n",
    "Update – This method updates the roll number of the student. This method will ask for the old roll number and new roll number. It will replace the old roll number with a new roll number."
   ]
  },
  {
   "cell_type": "code",
   "execution_count": 3,
   "metadata": {},
   "outputs": [],
   "source": [
    "class School_system:\n",
    "\n",
    "    ## Attributes\n",
    "    def __init__(self, school_name):\n",
    "        self.school_name = school_name\n",
    "        self.student_data = {\"Student name\" : [], \"Roll number\" : [], \"Subjects\" : {}}\n",
    "\n",
    "    ## Methods\n",
    "    def accept_new_std(self, student_name, roll_number, number_of_subjects):\n",
    "        for i in range (1):\n",
    "            if isinstance(student_name, str) and student_name != \"\":\n",
    "                self.student_data[\"Student name\"].append(student_name)\n",
    "            else:\n",
    "                print(\"Please enter valid name!!\") \n",
    "                return\n",
    "\n",
    "            if isinstance(roll_number, int) and roll_number != \"\":\n",
    "                if roll_number not in self.student_data[\"Roll number\"]:\n",
    "                    self.student_data[\"Roll number\"].append(roll_number)\n",
    "                else:\n",
    "                    print(\"Repeated Roll number!!\")\n",
    "                    self.student_data[\"Student name\"].remove(student_name)\n",
    "                    return\n",
    "            else:\n",
    "                print(\"Please enter valid Roll number!!\")\n",
    "                return\n",
    "        \n",
    "        if isinstance(number_of_subjects, int):\n",
    "            if number_of_subjects >= 1:\n",
    "                for sub in range(number_of_subjects):\n",
    "                    subject_name = input(\"Subject name: \").upper()\n",
    "                    if isinstance(subject_name, str): \n",
    "                        if subject_name not in self.student_data[\"Subjects\"]: \n",
    "                            self.student_data[\"Subjects\"][subject_name] = []\n",
    "                        subject_grade = float(input(\"Subject grade: \"))\n",
    "                        self.student_data[\"Subjects\"][subject_name].extend([student_name, roll_number, subject_grade])                       \n",
    "                    else:\n",
    "                        print(\"Entet a valid subject name!!\")\n",
    "            else:\n",
    "                print(\"Enter valid number more than ZERO\")\n",
    "        else:\n",
    "            print(\"Enter valid number of subjects\")\n",
    "        return self.student_data\n",
    "\n",
    "    def display_all_students(self):\n",
    "        for k,v in self.student_data.items():\n",
    "            print(k,v)\n",
    "    \n",
    "    def search_in_database(self, roll_number, counter = 0):\n",
    "        if roll_number in self.student_data[\"Roll number\"]:\n",
    "            index_of_items = self.student_data[\"Roll number\"].index(roll_number)\n",
    "            student_name = self.student_data[\"Student name\"][index_of_items]\n",
    "            print(f\"The student name is {student_name}, and the roll number is {roll_number}\")\n",
    "        else:\n",
    "            print(f\"The roll number {roll_number} not in the database!!\")\n",
    "        \n",
    "        for k,v in self.student_data[\"Subjects\"].items():\n",
    "            grade_of_subject_index = index_of_items + 1\n",
    "            the_grade = k[grade_of_subject_index]\n",
    "            counter += 1\n",
    "            if roll_number in v:\n",
    "                print(f\"Subject No. {counter} is {k} and the grade is {the_grade}\")\n"
   ]
  },
  {
   "cell_type": "code",
   "execution_count": 200,
   "metadata": {},
   "outputs": [
    {
     "data": {
      "text/plain": [
       "<__main__.School_system at 0x25d8afd91d0>"
      ]
     },
     "execution_count": 200,
     "metadata": {},
     "output_type": "execute_result"
    }
   ],
   "source": [
    "guc_school = School_system(\"GUC\")\n",
    "guc_school"
   ]
  },
  {
   "cell_type": "code",
   "execution_count": 201,
   "metadata": {},
   "outputs": [
    {
     "data": {
      "text/plain": [
       "{'Student name': ['Jasser'],\n",
       " 'Roll number': [10014175],\n",
       " 'Subjects': {'F': ['Jasser', 10014175, 4.0]}}"
      ]
     },
     "execution_count": 201,
     "metadata": {},
     "output_type": "execute_result"
    }
   ],
   "source": [
    "guc_school.accept_new_std(\"Jasser\", 10014175, 1)"
   ]
  },
  {
   "cell_type": "code",
   "execution_count": 202,
   "metadata": {},
   "outputs": [
    {
     "data": {
      "text/plain": [
       "{'Student name': ['Jasser', 'Mohammed'],\n",
       " 'Roll number': [10014175, 100338],\n",
       " 'Subjects': {'F': ['Jasser', 10014175, 4.0],\n",
       "  'S': ['Mohammed', 100338, 5.0],\n",
       "  'A': ['Mohammed', 100338, 7.0]}}"
      ]
     },
     "execution_count": 202,
     "metadata": {},
     "output_type": "execute_result"
    }
   ],
   "source": [
    "guc_school.accept_new_std(\"Mohammed\", 100338, 2)\n"
   ]
  },
  {
   "cell_type": "code",
   "execution_count": 203,
   "metadata": {},
   "outputs": [
    {
     "name": "stdout",
     "output_type": "stream",
     "text": [
      "Student name ['Jasser', 'Mohammed']\n",
      "Roll number [10014175, 100338]\n",
      "Subjects {'F': ['Jasser', 10014175, 4.0], 'S': ['Mohammed', 100338, 5.0], 'A': ['Mohammed', 100338, 7.0]}\n"
     ]
    }
   ],
   "source": [
    "guc_school.display_all_students()"
   ]
  },
  {
   "cell_type": "code",
   "execution_count": 204,
   "metadata": {},
   "outputs": [
    {
     "name": "stdout",
     "output_type": "stream",
     "text": [
      "The student name is Jasser, and the roll number is 10014175\n"
     ]
    },
    {
     "ename": "IndexError",
     "evalue": "string index out of range",
     "output_type": "error",
     "traceback": [
      "\u001b[1;31m---------------------------------------------------------------------------\u001b[0m",
      "\u001b[1;31mIndexError\u001b[0m                                Traceback (most recent call last)",
      "Cell \u001b[1;32mIn[204], line 1\u001b[0m\n\u001b[1;32m----> 1\u001b[0m guc_school\u001b[38;5;241m.\u001b[39msearch_in_database(\u001b[38;5;241m10014175\u001b[39m)\n",
      "Cell \u001b[1;32mIn[199], line 59\u001b[0m, in \u001b[0;36mSchool_system.search_in_database\u001b[1;34m(self, roll_number, counter)\u001b[0m\n\u001b[0;32m     57\u001b[0m \u001b[38;5;28;01mfor\u001b[39;00m k,v \u001b[38;5;129;01min\u001b[39;00m \u001b[38;5;28mself\u001b[39m\u001b[38;5;241m.\u001b[39mstudent_data[\u001b[38;5;124m\"\u001b[39m\u001b[38;5;124mSubjects\u001b[39m\u001b[38;5;124m\"\u001b[39m]\u001b[38;5;241m.\u001b[39mitems():\n\u001b[0;32m     58\u001b[0m     grade_of_subject_index \u001b[38;5;241m=\u001b[39m index_of_items \u001b[38;5;241m+\u001b[39m \u001b[38;5;241m1\u001b[39m\n\u001b[1;32m---> 59\u001b[0m     the_grade \u001b[38;5;241m=\u001b[39m k[grade_of_subject_index]\n\u001b[0;32m     60\u001b[0m     counter \u001b[38;5;241m+\u001b[39m\u001b[38;5;241m=\u001b[39m \u001b[38;5;241m1\u001b[39m\n\u001b[0;32m     61\u001b[0m     \u001b[38;5;28;01mif\u001b[39;00m roll_number \u001b[38;5;129;01min\u001b[39;00m v:\n",
      "\u001b[1;31mIndexError\u001b[0m: string index out of range"
     ]
    }
   ],
   "source": [
    "guc_school.search_in_database(10014175)"
   ]
  },
  {
   "cell_type": "code",
   "execution_count": null,
   "metadata": {},
   "outputs": [],
   "source": []
  }
 ],
 "metadata": {
  "kernelspec": {
   "display_name": "machine_learning",
   "language": "python",
   "name": "python3"
  },
  "language_info": {
   "codemirror_mode": {
    "name": "ipython",
    "version": 3
   },
   "file_extension": ".py",
   "mimetype": "text/x-python",
   "name": "python",
   "nbconvert_exporter": "python",
   "pygments_lexer": "ipython3",
   "version": "3.11.7"
  }
 },
 "nbformat": 4,
 "nbformat_minor": 2
}
