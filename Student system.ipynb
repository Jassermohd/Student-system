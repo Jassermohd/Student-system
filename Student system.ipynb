{
 "cells": [
  {
   "cell_type": "markdown",
   "metadata": {},
   "source": [
    "### Problem Statement: Write a program to build a simple Student Management System using Python which can perform the following operations:\n",
    "\n",
    "Accept\n",
    "Display\n",
    "Search\n",
    "Delete\n",
    "Update\n",
    "\n",
    "Accept – This method takes details from the user like name, roll number, and marks for two different subjects.\n",
    "\n",
    "Display – This method displays the details of every student.\n",
    "\n",
    "Search – This method searches for a particular student from the list of students. This method will ask the user for roll number and then search according to the roll number\n",
    "\n",
    "Delete – This method deletes the record of a particular student with a matching roll number.\n",
    "\n",
    "Update – This method updates the roll number of the student. This method will ask for the old roll number and new roll number. It will replace the old roll number with a new roll number."
   ]
  },
  {
   "cell_type": "code",
   "execution_count": 59,
   "metadata": {},
   "outputs": [],
   "source": [
    "class School_system:\n",
    "\n",
    "    ## Attributes\n",
    "    def __init__(self, school_name):\n",
    "        self.school_name = school_name\n",
    "        self.student_data = {\"Student name\" : [], \"Roll number\" : [], \"Subjects\" : {}}\n",
    "\n",
    "    ## Methods\n",
    "    def accept_new_std(self, student_name, roll_number, number_of_subjects):\n",
    "        if isinstance(student_name, str):\n",
    "            self.student_data[\"Student name\"].append(student_name)\n",
    "        else:\n",
    "            print(\"Please enter valid name!!\")\n",
    "            return\n",
    "\n",
    "        if isinstance(roll_number, int):\n",
    "            if roll_number not in self.student_data.values():\n",
    "                self.student_data[\"Roll number\"].append(roll_number)\n",
    "            else:\n",
    "                print(\"Repeated Roll number!!\")\n",
    "                return\n",
    "            \n",
    "        else:\n",
    "            print(\"Please enter valid Roll number!!\")\n",
    "            return\n",
    "        if isinstance(number_of_subjects, int):\n",
    "            if number_of_subjects >= 1:\n",
    "                for sub in range(number_of_subjects):\n",
    "                    subject_name = input(\"Subject name: \").upper()\n",
    "                    if isinstance(subject_name.upper(), str): \n",
    "                        if subject_name.upper() not in self.student_data[\"Subjects\"]: \n",
    "                            self.student_data[\"Subjects\"][subject_name] = []\n",
    "                            subject_grade = float(input(\"Subject grade: \"))\n",
    "                            self.student_data[\"Subjects\"][subject_name].extend((roll_number, subject_grade))\n",
    "                        else:\n",
    "                            print(\"Repeated subject!!\")\n",
    "                    else:\n",
    "                        print(\"Entet a valid subject name!!\")\n",
    "            else:\n",
    "                print(\"Enter valid number more than ZERO\")\n",
    "        else:\n",
    "            print(\"Enter correct number of subjects\")\n",
    "        return self.student_data\n",
    "\n",
    "    def display_all_students(self):\n",
    "        return self.student_data\n",
    "    \n",
    "    "
   ]
  },
  {
   "cell_type": "code",
   "execution_count": 60,
   "metadata": {},
   "outputs": [
    {
     "data": {
      "text/plain": [
       "<__main__.School_system at 0x1c9493e9a60>"
      ]
     },
     "execution_count": 60,
     "metadata": {},
     "output_type": "execute_result"
    }
   ],
   "source": [
    "cig_school = School_system(\"CIG\")\n",
    "cig_school"
   ]
  },
  {
   "cell_type": "code",
   "execution_count": 62,
   "metadata": {},
   "outputs": [
    {
     "name": "stdout",
     "output_type": "stream",
     "text": [
      "Repeated subject!!\n"
     ]
    },
    {
     "data": {
      "text/plain": [
       "{'Student name': ['Jasser', 'Jasser'],\n",
       " 'Roll number': [10014175, 10014175],\n",
       " 'Subjects': {'ARABIC': [10014175, 7.0]}}"
      ]
     },
     "execution_count": 62,
     "metadata": {},
     "output_type": "execute_result"
    }
   ],
   "source": [
    "cig_school.accept_new_std(\"Jasser\", 10014175, 1)"
   ]
  }
 ],
 "metadata": {
  "kernelspec": {
   "display_name": "machine_learning",
   "language": "python",
   "name": "python3"
  },
  "language_info": {
   "codemirror_mode": {
    "name": "ipython",
    "version": 3
   },
   "file_extension": ".py",
   "mimetype": "text/x-python",
   "name": "python",
   "nbconvert_exporter": "python",
   "pygments_lexer": "ipython3",
   "version": "3.9.19"
  }
 },
 "nbformat": 4,
 "nbformat_minor": 2
}
